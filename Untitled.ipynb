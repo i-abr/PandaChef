{
 "cells": [
  {
   "cell_type": "code",
   "execution_count": 1,
   "metadata": {},
   "outputs": [],
   "source": [
    "import pybullet as p\n",
    "import pybullet_data as pd\n",
    "import math\n",
    "import time\n",
    "import numpy as np\n",
    "import torch\n",
    "from panda_env2 import PandaChefEnv\n",
    "from sac_lib import SoftActorCritic, PolicyNetwork, ReplayBuffer"
   ]
  },
  {
   "cell_type": "code",
   "execution_count": 2,
   "metadata": {},
   "outputs": [],
   "source": [
    "env = PandaChefEnv(render=True)\n",
    "state_dim = env.observation_space.shape[0]\n",
    "action_dim = env.action_space.shape[0]\n"
   ]
  },
  {
   "cell_type": "code",
   "execution_count": 3,
   "metadata": {},
   "outputs": [],
   "source": [
    "replay_buffer = ReplayBuffer(100000)"
   ]
  },
  {
   "cell_type": "code",
   "execution_count": 4,
   "metadata": {},
   "outputs": [],
   "source": [
    "device = torch.device('cuda:0' if torch.cuda.is_available() else 'cpu')"
   ]
  },
  {
   "cell_type": "code",
   "execution_count": 5,
   "metadata": {},
   "outputs": [],
   "source": [
    "policy_net = PolicyNetwork(state_dim, action_dim, 128).to(device)\n",
    "sac = SoftActorCritic(policy_net, state_dim, action_dim, replay_buffer)"
   ]
  },
  {
   "cell_type": "code",
   "execution_count": 6,
   "metadata": {},
   "outputs": [
    {
     "name": "stdout",
     "output_type": "stream",
     "text": [
      "-612.0304114182964 0.0\n",
      "-698.8140993758647 0.0\n",
      "-576.9091853609078 0.0\n",
      "-676.7445429678498 0.0\n",
      "-700.5619817065511 0.0\n",
      "-603.5509334478982 0.0\n",
      "-687.217567701321 0.0\n",
      "-632.1911666452278 0.0\n",
      "-1283.7041803287148 0.0\n",
      "-610.472505846808 0.0\n",
      "-553.2584554818188 0.0\n",
      "-1126.9998360138134 0.0\n",
      "-1600.7564752602975 0.0\n",
      "-858.7317592020291 0.0\n",
      "-550.2396295113745 0.0\n",
      "-1131.7127412255065 0.0\n",
      "-583.9095132266408 0.0\n",
      "-706.8520039671214 0.0\n",
      "-899.6160655953888 0.0\n",
      "-757.5723118114964 0.0\n",
      "-1143.25988887445 0.0\n",
      "-598.9265618462708 0.0\n",
      "-768.1037338270812 0.0\n",
      "-610.6657749032527 0.0\n",
      "-1044.2706271531492 0.0\n",
      "-559.996733903946 0.0\n",
      "-622.3729480739698 0.0\n",
      "-641.443500878705 0.0\n",
      "-819.1184612064051 0.0\n",
      "-608.7976913387209 0.0\n",
      "-787.1698843499978 0.0\n",
      "-574.8229138360339 0.0\n",
      "-596.9356379498292 0.0\n",
      "-1130.1925068735748 0.0\n",
      "-1187.2250688306208 0.0\n",
      "-819.577460300823 0.0\n",
      "-735.2818319243469 0.0\n",
      "-582.4574471136054 0.0\n",
      "-584.4487276599781 0.0\n",
      "-687.101330996842 0.0\n",
      "-471.2756523192056 0.0\n",
      "-1149.1671303637033 0.0\n",
      "-583.0055986080445 0.0\n",
      "-547.8886220154147 0.0\n",
      "-648.1093683488414 0.0\n",
      "-641.3681913764444 0.0\n",
      "-581.9365923784312 0.0\n",
      "-616.1585352705698 0.0\n",
      "-983.1562318501743 0.0\n",
      "-691.9341532452783 0.0\n",
      "-664.5156552850601 0.0\n",
      "-614.0032599895407 0.0\n",
      "-573.6602086001761 0.0\n",
      "-616.3279580861844 0.0\n",
      "-659.4563868151919 0.0\n",
      "-633.986456665652 0.0\n",
      "-636.7482960284095 0.0\n",
      "-595.5408051614403 0.0\n",
      "-561.7340218739768 0.0\n",
      "-1007.7340137010822 0.0\n",
      "-590.5323107131646 0.0\n",
      "-791.0431628547192 0.0\n",
      "-585.8173430956651 0.0\n",
      "-582.9174091627639 0.0\n",
      "-990.0711455125632 0.0\n",
      "-542.6728110476957 0.0\n",
      "-1569.5439101250452 0.0\n",
      "-1055.5107402366937 0.0\n",
      "-554.7402033000951 0.0\n",
      "-834.3968525604616 0.0\n",
      "-1039.890885548761 0.0\n",
      "-867.1560360380078 0.0\n",
      "-786.9945911617298 0.0\n",
      "-793.7200504771974 0.0\n",
      "-778.01486590713 0.0\n",
      "-893.0744886053699 0.0\n",
      "-741.0600641148827 0.0\n",
      "-782.5130113780209 0.0\n",
      "-912.342250813678 0.0\n",
      "-998.3259550182765 0.0\n",
      "-839.9614562263755 0.0\n",
      "-615.0180146780925 0.0\n",
      "-448.4645804845972 0.0\n",
      "-480.74750099692415 0.0\n",
      "-751.0189835174363 0.0\n",
      "-701.4019717990335 0.0\n",
      "-627.7211018649053 0.0\n",
      "-625.2599230350062 0.0\n",
      "-674.9257933980836 0.0\n",
      "-572.8595304705151 0.0\n",
      "-1037.1447214559091 0.0\n",
      "-768.1158245251349 0.0\n",
      "-822.196618517177 0.0\n",
      "-542.1777925126 0.0\n",
      "-681.4264839368979 0.0\n",
      "-492.6412509844886 0.0\n",
      "-636.9892956925669 0.0\n",
      "-1125.3862698964163 0.0\n",
      "-523.2902725872582 0.0\n",
      "-467.3820837189439 0.0\n",
      "-721.3392433895758 0.0\n",
      "-901.213988633876 0.0\n",
      "-658.2084784734284 0.0\n",
      "-507.94814643738835 0.0\n",
      "-818.815166034067 0.0\n",
      "-769.4680741042853 0.0\n",
      "-754.8525712867188 0.0\n",
      "-660.4360557789099 0.0\n",
      "-722.3890845966944 0.0\n",
      "-742.6494325855633 0.0\n",
      "-660.5347606762925 0.0\n",
      "-864.2984103677293 0.0\n",
      "-1005.1239225232322 0.0\n",
      "-602.7322849460687 0.0\n",
      "-847.6321674423087 0.0\n",
      "-587.7255737647201 0.0\n",
      "-897.735227597517 0.0\n",
      "-676.1320692652881 0.0\n",
      "-932.1465170709139 0.0\n",
      "-786.963504227589 0.0\n",
      "-742.4336009888963 0.0\n",
      "-783.936337325115 0.0\n",
      "-564.9914268926838 0.0\n",
      "-566.2544485164506 0.0\n",
      "-772.4081368241759 0.0\n",
      "-596.5364316976136 0.0\n",
      "-557.2598952991759 0.0\n",
      "-597.9162311290268 0.0\n",
      "-519.1817375266262 0.0\n",
      "-650.9718368078238 0.0\n",
      "-550.3596398522142 0.0\n",
      "-707.9447343585699 0.0\n",
      "-467.94037190599687 0.0\n",
      "-765.320527976378 0.0\n",
      "-624.178387091553 0.0\n",
      "-539.9147006194437 0.0\n",
      "-951.6913014803945 0.0\n",
      "-637.4947902973255 0.0\n",
      "-720.1834736278781 0.0\n",
      "-530.1554889557482 0.0\n",
      "-608.1313873646436 0.0\n",
      "-761.4407240688046 0.0\n",
      "-531.6379616860781 0.0\n",
      "-650.8666421352851 0.0\n",
      "-628.698807446235 0.0\n",
      "-523.4426483906418 0.0\n",
      "-598.4090552143878 0.0\n",
      "-644.8127215698266 0.0\n",
      "-681.3536231548326 0.0\n",
      "-612.2666838314341 0.0\n",
      "-522.8229697282978 0.0\n",
      "-531.1478575440782 0.0\n",
      "-569.7536855706445 0.0\n",
      "-923.1026254464292 0.0\n",
      "-627.4375470256169 0.0\n",
      "-513.851085245922 0.0\n",
      "-819.0708614959368 0.0\n",
      "-619.8789388274838 0.0\n",
      "-733.3002782938406 0.0\n",
      "-575.3243836279494 0.0\n",
      "-566.76071376711 0.0\n",
      "-672.3205943172638 0.0\n",
      "-706.4443315072657 0.0\n",
      "-570.4548925464782 0.0\n",
      "-926.0682382368734 0.0\n",
      "-981.1994544104265 0.0\n",
      "-520.0158473020817 0.0\n",
      "-776.2995775049806 0.0\n",
      "-927.0476623608351 0.0\n",
      "-605.088380151512 0.0\n",
      "-794.5925217979956 0.0\n",
      "-677.969330172034 0.0\n",
      "-636.1165754614998 0.0\n",
      "-760.190821688744 0.0\n",
      "-701.8803251866959 0.0\n",
      "-625.4736045558446 0.0\n",
      "-676.877499665827 0.0\n",
      "-586.2936752037716 0.0\n",
      "-932.1031843051954 0.0\n",
      "-983.0217079074964 0.0\n",
      "-936.3706496164355 0.0\n",
      "-841.1199942204992 0.0\n",
      "-616.2544303919483 0.0\n",
      "-555.7044262633824 0.0\n",
      "-677.4695430668894 0.0\n",
      "-1113.4256301765809 0.0\n",
      "-619.8304300001046 0.0\n",
      "-868.6057251694386 0.0\n",
      "-586.7582377276647 0.0\n",
      "-832.0262916578666 0.0\n",
      "-1008.700418992226 0.0\n",
      "-597.1810027819132 0.0\n",
      "-627.4613930434894 0.0\n",
      "-535.6552040017376 0.0\n",
      "-680.8593579757954 0.0\n",
      "-610.7676006344111 0.0\n",
      "-1182.7741849028205 0.0\n",
      "-539.0017523265727 0.0\n",
      "-935.0030893870207 0.0\n",
      "-554.9153552814323 0.0\n",
      "-552.2967730688081 0.0\n"
     ]
    },
    {
     "ename": "KeyboardInterrupt",
     "evalue": "",
     "output_type": "error",
     "traceback": [
      "\u001b[0;31m---------------------------------------------------------------------------\u001b[0m",
      "\u001b[0;31mKeyboardInterrupt\u001b[0m                         Traceback (most recent call last)",
      "\u001b[0;32m<ipython-input-6-de2764cf2b9c>\u001b[0m in \u001b[0;36m<module>\u001b[0;34m\u001b[0m\n\u001b[1;32m     15\u001b[0m         \u001b[0mep_reward\u001b[0m \u001b[0;34m+=\u001b[0m \u001b[0mreward\u001b[0m\u001b[0;34m\u001b[0m\u001b[0;34m\u001b[0m\u001b[0m\n\u001b[1;32m     16\u001b[0m         \u001b[0;32mif\u001b[0m \u001b[0mlen\u001b[0m\u001b[0;34m(\u001b[0m\u001b[0mreplay_buffer\u001b[0m\u001b[0;34m)\u001b[0m\u001b[0;34m>\u001b[0m\u001b[0mbatch_size\u001b[0m\u001b[0;34m:\u001b[0m\u001b[0;34m\u001b[0m\u001b[0;34m\u001b[0m\u001b[0m\n\u001b[0;32m---> 17\u001b[0;31m             \u001b[0msac\u001b[0m\u001b[0;34m.\u001b[0m\u001b[0mupdate\u001b[0m\u001b[0;34m(\u001b[0m\u001b[0mbatch_size\u001b[0m\u001b[0;34m)\u001b[0m\u001b[0;34m\u001b[0m\u001b[0;34m\u001b[0m\u001b[0m\n\u001b[0m\u001b[1;32m     18\u001b[0m         \u001b[0;32mif\u001b[0m \u001b[0mdone\u001b[0m\u001b[0;34m:\u001b[0m\u001b[0;34m\u001b[0m\u001b[0;34m\u001b[0m\u001b[0m\n\u001b[1;32m     19\u001b[0m             \u001b[0;32mbreak\u001b[0m\u001b[0;34m\u001b[0m\u001b[0;34m\u001b[0m\u001b[0m\n",
      "\u001b[0;32m~/SandBox/custom_pybullet_envs/sac_lib/sac.py\u001b[0m in \u001b[0;36mupdate\u001b[0;34m(self, batch_size, gamma, soft_tau)\u001b[0m\n\u001b[1;32m     83\u001b[0m \u001b[0;34m\u001b[0m\u001b[0m\n\u001b[1;32m     84\u001b[0m         \u001b[0mnew_action\u001b[0m\u001b[0;34m,\u001b[0m \u001b[0mlog_prob\u001b[0m\u001b[0;34m,\u001b[0m \u001b[0mz\u001b[0m\u001b[0;34m,\u001b[0m \u001b[0mmean\u001b[0m\u001b[0;34m,\u001b[0m \u001b[0mlog_std\u001b[0m \u001b[0;34m=\u001b[0m \u001b[0mself\u001b[0m\u001b[0;34m.\u001b[0m\u001b[0mpolicy_net\u001b[0m\u001b[0;34m.\u001b[0m\u001b[0mevaluate\u001b[0m\u001b[0;34m(\u001b[0m\u001b[0mstate\u001b[0m\u001b[0;34m)\u001b[0m\u001b[0;34m\u001b[0m\u001b[0;34m\u001b[0m\u001b[0m\n\u001b[0;32m---> 85\u001b[0;31m         \u001b[0mexpected_new_q1_value\u001b[0m\u001b[0;34m,\u001b[0m \u001b[0mexpected_new_q2_value\u001b[0m \u001b[0;34m=\u001b[0m \u001b[0mself\u001b[0m\u001b[0;34m.\u001b[0m\u001b[0msoft_q_net\u001b[0m\u001b[0;34m(\u001b[0m\u001b[0mstate\u001b[0m\u001b[0;34m,\u001b[0m \u001b[0mnew_action\u001b[0m\u001b[0;34m)\u001b[0m\u001b[0;34m\u001b[0m\u001b[0;34m\u001b[0m\u001b[0m\n\u001b[0m\u001b[1;32m     86\u001b[0m \u001b[0;34m\u001b[0m\u001b[0m\n\u001b[1;32m     87\u001b[0m         \u001b[0mexpected_new_q_value\u001b[0m \u001b[0;34m=\u001b[0m \u001b[0mtorch\u001b[0m\u001b[0;34m.\u001b[0m\u001b[0mmin\u001b[0m\u001b[0;34m(\u001b[0m\u001b[0mexpected_new_q1_value\u001b[0m\u001b[0;34m,\u001b[0m \u001b[0mexpected_new_q2_value\u001b[0m\u001b[0;34m)\u001b[0m\u001b[0;34m\u001b[0m\u001b[0;34m\u001b[0m\u001b[0m\n",
      "\u001b[0;32m~/.local/lib/python3.6/site-packages/torch/nn/modules/module.py\u001b[0m in \u001b[0;36m__call__\u001b[0;34m(self, *input, **kwargs)\u001b[0m\n\u001b[1;32m    548\u001b[0m             \u001b[0mresult\u001b[0m \u001b[0;34m=\u001b[0m \u001b[0mself\u001b[0m\u001b[0;34m.\u001b[0m\u001b[0m_slow_forward\u001b[0m\u001b[0;34m(\u001b[0m\u001b[0;34m*\u001b[0m\u001b[0minput\u001b[0m\u001b[0;34m,\u001b[0m \u001b[0;34m**\u001b[0m\u001b[0mkwargs\u001b[0m\u001b[0;34m)\u001b[0m\u001b[0;34m\u001b[0m\u001b[0;34m\u001b[0m\u001b[0m\n\u001b[1;32m    549\u001b[0m         \u001b[0;32melse\u001b[0m\u001b[0;34m:\u001b[0m\u001b[0;34m\u001b[0m\u001b[0;34m\u001b[0m\u001b[0m\n\u001b[0;32m--> 550\u001b[0;31m             \u001b[0mresult\u001b[0m \u001b[0;34m=\u001b[0m \u001b[0mself\u001b[0m\u001b[0;34m.\u001b[0m\u001b[0mforward\u001b[0m\u001b[0;34m(\u001b[0m\u001b[0;34m*\u001b[0m\u001b[0minput\u001b[0m\u001b[0;34m,\u001b[0m \u001b[0;34m**\u001b[0m\u001b[0mkwargs\u001b[0m\u001b[0;34m)\u001b[0m\u001b[0;34m\u001b[0m\u001b[0;34m\u001b[0m\u001b[0m\n\u001b[0m\u001b[1;32m    551\u001b[0m         \u001b[0;32mfor\u001b[0m \u001b[0mhook\u001b[0m \u001b[0;32min\u001b[0m \u001b[0mself\u001b[0m\u001b[0;34m.\u001b[0m\u001b[0m_forward_hooks\u001b[0m\u001b[0;34m.\u001b[0m\u001b[0mvalues\u001b[0m\u001b[0;34m(\u001b[0m\u001b[0;34m)\u001b[0m\u001b[0;34m:\u001b[0m\u001b[0;34m\u001b[0m\u001b[0;34m\u001b[0m\u001b[0m\n\u001b[1;32m    552\u001b[0m             \u001b[0mhook_result\u001b[0m \u001b[0;34m=\u001b[0m \u001b[0mhook\u001b[0m\u001b[0;34m(\u001b[0m\u001b[0mself\u001b[0m\u001b[0;34m,\u001b[0m \u001b[0minput\u001b[0m\u001b[0;34m,\u001b[0m \u001b[0mresult\u001b[0m\u001b[0;34m)\u001b[0m\u001b[0;34m\u001b[0m\u001b[0;34m\u001b[0m\u001b[0m\n",
      "\u001b[0;32m~/SandBox/custom_pybullet_envs/sac_lib/softQnetwork.py\u001b[0m in \u001b[0;36mforward\u001b[0;34m(self, state, action)\u001b[0m\n\u001b[1;32m     22\u001b[0m     \u001b[0;32mdef\u001b[0m \u001b[0mforward\u001b[0m\u001b[0;34m(\u001b[0m\u001b[0mself\u001b[0m\u001b[0;34m,\u001b[0m \u001b[0mstate\u001b[0m\u001b[0;34m,\u001b[0m \u001b[0maction\u001b[0m\u001b[0;34m)\u001b[0m\u001b[0;34m:\u001b[0m\u001b[0;34m\u001b[0m\u001b[0;34m\u001b[0m\u001b[0m\n\u001b[1;32m     23\u001b[0m         \u001b[0mstate_action\u001b[0m \u001b[0;34m=\u001b[0m \u001b[0mtorch\u001b[0m\u001b[0;34m.\u001b[0m\u001b[0mcat\u001b[0m\u001b[0;34m(\u001b[0m\u001b[0;34m[\u001b[0m\u001b[0mstate\u001b[0m\u001b[0;34m,\u001b[0m \u001b[0maction\u001b[0m\u001b[0;34m]\u001b[0m\u001b[0;34m,\u001b[0m \u001b[0;36m1\u001b[0m\u001b[0;34m)\u001b[0m\u001b[0;34m\u001b[0m\u001b[0;34m\u001b[0m\u001b[0m\n\u001b[0;32m---> 24\u001b[0;31m         \u001b[0;32mreturn\u001b[0m \u001b[0mself\u001b[0m\u001b[0;34m.\u001b[0m\u001b[0mq1\u001b[0m\u001b[0;34m(\u001b[0m\u001b[0mstate_action\u001b[0m\u001b[0;34m)\u001b[0m\u001b[0;34m,\u001b[0m \u001b[0mself\u001b[0m\u001b[0;34m.\u001b[0m\u001b[0mq2\u001b[0m\u001b[0;34m(\u001b[0m\u001b[0mstate_action\u001b[0m\u001b[0;34m)\u001b[0m\u001b[0;34m\u001b[0m\u001b[0;34m\u001b[0m\u001b[0m\n\u001b[0m",
      "\u001b[0;32m~/.local/lib/python3.6/site-packages/torch/nn/modules/module.py\u001b[0m in \u001b[0;36m__call__\u001b[0;34m(self, *input, **kwargs)\u001b[0m\n\u001b[1;32m    548\u001b[0m             \u001b[0mresult\u001b[0m \u001b[0;34m=\u001b[0m \u001b[0mself\u001b[0m\u001b[0;34m.\u001b[0m\u001b[0m_slow_forward\u001b[0m\u001b[0;34m(\u001b[0m\u001b[0;34m*\u001b[0m\u001b[0minput\u001b[0m\u001b[0;34m,\u001b[0m \u001b[0;34m**\u001b[0m\u001b[0mkwargs\u001b[0m\u001b[0;34m)\u001b[0m\u001b[0;34m\u001b[0m\u001b[0;34m\u001b[0m\u001b[0m\n\u001b[1;32m    549\u001b[0m         \u001b[0;32melse\u001b[0m\u001b[0;34m:\u001b[0m\u001b[0;34m\u001b[0m\u001b[0;34m\u001b[0m\u001b[0m\n\u001b[0;32m--> 550\u001b[0;31m             \u001b[0mresult\u001b[0m \u001b[0;34m=\u001b[0m \u001b[0mself\u001b[0m\u001b[0;34m.\u001b[0m\u001b[0mforward\u001b[0m\u001b[0;34m(\u001b[0m\u001b[0;34m*\u001b[0m\u001b[0minput\u001b[0m\u001b[0;34m,\u001b[0m \u001b[0;34m**\u001b[0m\u001b[0mkwargs\u001b[0m\u001b[0;34m)\u001b[0m\u001b[0;34m\u001b[0m\u001b[0;34m\u001b[0m\u001b[0m\n\u001b[0m\u001b[1;32m    551\u001b[0m         \u001b[0;32mfor\u001b[0m \u001b[0mhook\u001b[0m \u001b[0;32min\u001b[0m \u001b[0mself\u001b[0m\u001b[0;34m.\u001b[0m\u001b[0m_forward_hooks\u001b[0m\u001b[0;34m.\u001b[0m\u001b[0mvalues\u001b[0m\u001b[0;34m(\u001b[0m\u001b[0;34m)\u001b[0m\u001b[0;34m:\u001b[0m\u001b[0;34m\u001b[0m\u001b[0;34m\u001b[0m\u001b[0m\n\u001b[1;32m    552\u001b[0m             \u001b[0mhook_result\u001b[0m \u001b[0;34m=\u001b[0m \u001b[0mhook\u001b[0m\u001b[0;34m(\u001b[0m\u001b[0mself\u001b[0m\u001b[0;34m,\u001b[0m \u001b[0minput\u001b[0m\u001b[0;34m,\u001b[0m \u001b[0mresult\u001b[0m\u001b[0;34m)\u001b[0m\u001b[0;34m\u001b[0m\u001b[0;34m\u001b[0m\u001b[0m\n",
      "\u001b[0;32m~/.local/lib/python3.6/site-packages/torch/nn/modules/container.py\u001b[0m in \u001b[0;36mforward\u001b[0;34m(self, input)\u001b[0m\n\u001b[1;32m     98\u001b[0m     \u001b[0;32mdef\u001b[0m \u001b[0mforward\u001b[0m\u001b[0;34m(\u001b[0m\u001b[0mself\u001b[0m\u001b[0;34m,\u001b[0m \u001b[0minput\u001b[0m\u001b[0;34m)\u001b[0m\u001b[0;34m:\u001b[0m\u001b[0;34m\u001b[0m\u001b[0;34m\u001b[0m\u001b[0m\n\u001b[1;32m     99\u001b[0m         \u001b[0;32mfor\u001b[0m \u001b[0mmodule\u001b[0m \u001b[0;32min\u001b[0m \u001b[0mself\u001b[0m\u001b[0;34m:\u001b[0m\u001b[0;34m\u001b[0m\u001b[0;34m\u001b[0m\u001b[0m\n\u001b[0;32m--> 100\u001b[0;31m             \u001b[0minput\u001b[0m \u001b[0;34m=\u001b[0m \u001b[0mmodule\u001b[0m\u001b[0;34m(\u001b[0m\u001b[0minput\u001b[0m\u001b[0;34m)\u001b[0m\u001b[0;34m\u001b[0m\u001b[0;34m\u001b[0m\u001b[0m\n\u001b[0m\u001b[1;32m    101\u001b[0m         \u001b[0;32mreturn\u001b[0m \u001b[0minput\u001b[0m\u001b[0;34m\u001b[0m\u001b[0;34m\u001b[0m\u001b[0m\n\u001b[1;32m    102\u001b[0m \u001b[0;34m\u001b[0m\u001b[0m\n",
      "\u001b[0;32m~/.local/lib/python3.6/site-packages/torch/nn/modules/module.py\u001b[0m in \u001b[0;36m__call__\u001b[0;34m(self, *input, **kwargs)\u001b[0m\n\u001b[1;32m    548\u001b[0m             \u001b[0mresult\u001b[0m \u001b[0;34m=\u001b[0m \u001b[0mself\u001b[0m\u001b[0;34m.\u001b[0m\u001b[0m_slow_forward\u001b[0m\u001b[0;34m(\u001b[0m\u001b[0;34m*\u001b[0m\u001b[0minput\u001b[0m\u001b[0;34m,\u001b[0m \u001b[0;34m**\u001b[0m\u001b[0mkwargs\u001b[0m\u001b[0;34m)\u001b[0m\u001b[0;34m\u001b[0m\u001b[0;34m\u001b[0m\u001b[0m\n\u001b[1;32m    549\u001b[0m         \u001b[0;32melse\u001b[0m\u001b[0;34m:\u001b[0m\u001b[0;34m\u001b[0m\u001b[0;34m\u001b[0m\u001b[0m\n\u001b[0;32m--> 550\u001b[0;31m             \u001b[0mresult\u001b[0m \u001b[0;34m=\u001b[0m \u001b[0mself\u001b[0m\u001b[0;34m.\u001b[0m\u001b[0mforward\u001b[0m\u001b[0;34m(\u001b[0m\u001b[0;34m*\u001b[0m\u001b[0minput\u001b[0m\u001b[0;34m,\u001b[0m \u001b[0;34m**\u001b[0m\u001b[0mkwargs\u001b[0m\u001b[0;34m)\u001b[0m\u001b[0;34m\u001b[0m\u001b[0;34m\u001b[0m\u001b[0m\n\u001b[0m\u001b[1;32m    551\u001b[0m         \u001b[0;32mfor\u001b[0m \u001b[0mhook\u001b[0m \u001b[0;32min\u001b[0m \u001b[0mself\u001b[0m\u001b[0;34m.\u001b[0m\u001b[0m_forward_hooks\u001b[0m\u001b[0;34m.\u001b[0m\u001b[0mvalues\u001b[0m\u001b[0;34m(\u001b[0m\u001b[0;34m)\u001b[0m\u001b[0;34m:\u001b[0m\u001b[0;34m\u001b[0m\u001b[0;34m\u001b[0m\u001b[0m\n\u001b[1;32m    552\u001b[0m             \u001b[0mhook_result\u001b[0m \u001b[0;34m=\u001b[0m \u001b[0mhook\u001b[0m\u001b[0;34m(\u001b[0m\u001b[0mself\u001b[0m\u001b[0;34m,\u001b[0m \u001b[0minput\u001b[0m\u001b[0;34m,\u001b[0m \u001b[0mresult\u001b[0m\u001b[0;34m)\u001b[0m\u001b[0;34m\u001b[0m\u001b[0;34m\u001b[0m\u001b[0m\n",
      "\u001b[0;32m~/.local/lib/python3.6/site-packages/torch/nn/modules/linear.py\u001b[0m in \u001b[0;36mforward\u001b[0;34m(self, input)\u001b[0m\n\u001b[1;32m     85\u001b[0m \u001b[0;34m\u001b[0m\u001b[0m\n\u001b[1;32m     86\u001b[0m     \u001b[0;32mdef\u001b[0m \u001b[0mforward\u001b[0m\u001b[0;34m(\u001b[0m\u001b[0mself\u001b[0m\u001b[0;34m,\u001b[0m \u001b[0minput\u001b[0m\u001b[0;34m)\u001b[0m\u001b[0;34m:\u001b[0m\u001b[0;34m\u001b[0m\u001b[0;34m\u001b[0m\u001b[0m\n\u001b[0;32m---> 87\u001b[0;31m         \u001b[0;32mreturn\u001b[0m \u001b[0mF\u001b[0m\u001b[0;34m.\u001b[0m\u001b[0mlinear\u001b[0m\u001b[0;34m(\u001b[0m\u001b[0minput\u001b[0m\u001b[0;34m,\u001b[0m \u001b[0mself\u001b[0m\u001b[0;34m.\u001b[0m\u001b[0mweight\u001b[0m\u001b[0;34m,\u001b[0m \u001b[0mself\u001b[0m\u001b[0;34m.\u001b[0m\u001b[0mbias\u001b[0m\u001b[0;34m)\u001b[0m\u001b[0;34m\u001b[0m\u001b[0;34m\u001b[0m\u001b[0m\n\u001b[0m\u001b[1;32m     88\u001b[0m \u001b[0;34m\u001b[0m\u001b[0m\n\u001b[1;32m     89\u001b[0m     \u001b[0;32mdef\u001b[0m \u001b[0mextra_repr\u001b[0m\u001b[0;34m(\u001b[0m\u001b[0mself\u001b[0m\u001b[0;34m)\u001b[0m\u001b[0;34m:\u001b[0m\u001b[0;34m\u001b[0m\u001b[0;34m\u001b[0m\u001b[0m\n",
      "\u001b[0;32m~/.local/lib/python3.6/site-packages/torch/nn/functional.py\u001b[0m in \u001b[0;36mlinear\u001b[0;34m(input, weight, bias)\u001b[0m\n\u001b[1;32m   1608\u001b[0m     \u001b[0;32mif\u001b[0m \u001b[0minput\u001b[0m\u001b[0;34m.\u001b[0m\u001b[0mdim\u001b[0m\u001b[0;34m(\u001b[0m\u001b[0;34m)\u001b[0m \u001b[0;34m==\u001b[0m \u001b[0;36m2\u001b[0m \u001b[0;32mand\u001b[0m \u001b[0mbias\u001b[0m \u001b[0;32mis\u001b[0m \u001b[0;32mnot\u001b[0m \u001b[0;32mNone\u001b[0m\u001b[0;34m:\u001b[0m\u001b[0;34m\u001b[0m\u001b[0;34m\u001b[0m\u001b[0m\n\u001b[1;32m   1609\u001b[0m         \u001b[0;31m# fused op is marginally faster\u001b[0m\u001b[0;34m\u001b[0m\u001b[0;34m\u001b[0m\u001b[0;34m\u001b[0m\u001b[0m\n\u001b[0;32m-> 1610\u001b[0;31m         \u001b[0mret\u001b[0m \u001b[0;34m=\u001b[0m \u001b[0mtorch\u001b[0m\u001b[0;34m.\u001b[0m\u001b[0maddmm\u001b[0m\u001b[0;34m(\u001b[0m\u001b[0mbias\u001b[0m\u001b[0;34m,\u001b[0m \u001b[0minput\u001b[0m\u001b[0;34m,\u001b[0m \u001b[0mweight\u001b[0m\u001b[0;34m.\u001b[0m\u001b[0mt\u001b[0m\u001b[0;34m(\u001b[0m\u001b[0;34m)\u001b[0m\u001b[0;34m)\u001b[0m\u001b[0;34m\u001b[0m\u001b[0;34m\u001b[0m\u001b[0m\n\u001b[0m\u001b[1;32m   1611\u001b[0m     \u001b[0;32melse\u001b[0m\u001b[0;34m:\u001b[0m\u001b[0;34m\u001b[0m\u001b[0;34m\u001b[0m\u001b[0m\n\u001b[1;32m   1612\u001b[0m         \u001b[0moutput\u001b[0m \u001b[0;34m=\u001b[0m \u001b[0minput\u001b[0m\u001b[0;34m.\u001b[0m\u001b[0mmatmul\u001b[0m\u001b[0;34m(\u001b[0m\u001b[0mweight\u001b[0m\u001b[0;34m.\u001b[0m\u001b[0mt\u001b[0m\u001b[0;34m(\u001b[0m\u001b[0;34m)\u001b[0m\u001b[0;34m)\u001b[0m\u001b[0;34m\u001b[0m\u001b[0;34m\u001b[0m\u001b[0m\n",
      "\u001b[0;31mKeyboardInterrupt\u001b[0m: "
     ]
    }
   ],
   "source": [
    "frame_idx = 0\n",
    "max_frames = 100000\n",
    "batch_size = 128\n",
    "\n",
    "while frame_idx < max_frames:\n",
    "    ep_reward = 0.\n",
    "    state = env.reset()\n",
    "    for t in range(300):\n",
    "        \n",
    "        action = policy_net.get_action(state)\n",
    "        next_state, reward, done, _ = env.step(action)\n",
    "        \n",
    "        replay_buffer.push(state, action, reward, next_state, done)\n",
    "        state = next_state\n",
    "        ep_reward += reward\n",
    "        if len(replay_buffer)>batch_size:\n",
    "            sac.update(batch_size)\n",
    "        if done:\n",
    "            break\n",
    "        \n",
    "    print(ep_reward, env._max_flip_reward)\n",
    "        \n"
   ]
  },
  {
   "cell_type": "code",
   "execution_count": null,
   "metadata": {},
   "outputs": [],
   "source": [
    "p."
   ]
  },
  {
   "cell_type": "code",
   "execution_count": 7,
   "metadata": {},
   "outputs": [],
   "source": [
    "# p.loadURDF('./pan_tefal/pan_tefal.urdf', np.array([1.0, 1., 0.2]))\n",
    "for _ in range(100):\n",
    "    p.stepSimulation()"
   ]
  },
  {
   "cell_type": "code",
   "execution_count": 17,
   "metadata": {},
   "outputs": [
    {
     "data": {
      "text/plain": [
       "(array([ 5.99983752e-01, -4.03948860e-07,  3.99994701e-01,  5.59899536e-06,\n",
       "         2.86567615e-06,  1.00000000e+00, -1.99162173e-06,  1.81453326e+00,\n",
       "        -4.67770651e-02,  1.71225989e+00,  1.16058102e-02,  7.97016755e-01,\n",
       "        -1.21394363e-02,  6.03723638e-01,  1.09153757e+00, -5.03502258e-02,\n",
       "        -2.83576113e+00,  6.38517756e-01,  1.48741930e+01,  3.17770403e-01]),\n",
       " 13.08551788699349,\n",
       " True,\n",
       " {})"
      ]
     },
     "execution_count": 17,
     "metadata": {},
     "output_type": "execute_result"
    }
   ],
   "source": [
    "\n",
    "panda.step(np.array([targetPosX, targetPosY, targetPosTH]))"
   ]
  },
  {
   "cell_type": "code",
   "execution_count": 6,
   "metadata": {},
   "outputs": [
    {
     "ename": "KeyboardInterrupt",
     "evalue": "",
     "output_type": "error",
     "traceback": [
      "\u001b[0;31m---------------------------------------------------------------------------\u001b[0m",
      "\u001b[0;31mKeyboardInterrupt\u001b[0m                         Traceback (most recent call last)",
      "\u001b[0;32m<ipython-input-6-27df71021bda>\u001b[0m in \u001b[0;36m<module>\u001b[0;34m\u001b[0m\n\u001b[1;32m      4\u001b[0m     \u001b[0mtargetPosTH\u001b[0m \u001b[0;34m=\u001b[0m \u001b[0mp\u001b[0m\u001b[0;34m.\u001b[0m\u001b[0mreadUserDebugParameter\u001b[0m\u001b[0;34m(\u001b[0m\u001b[0mtargetPosTHId\u001b[0m\u001b[0;34m)\u001b[0m\u001b[0;34m\u001b[0m\u001b[0;34m\u001b[0m\u001b[0m\n\u001b[1;32m      5\u001b[0m     \u001b[0mpanda\u001b[0m\u001b[0;34m.\u001b[0m\u001b[0mstep\u001b[0m\u001b[0;34m(\u001b[0m\u001b[0mnp\u001b[0m\u001b[0;34m.\u001b[0m\u001b[0marray\u001b[0m\u001b[0;34m(\u001b[0m\u001b[0;34m[\u001b[0m\u001b[0mtargetPosX\u001b[0m\u001b[0;34m,\u001b[0m \u001b[0mtargetPosY\u001b[0m\u001b[0;34m,\u001b[0m \u001b[0mtargetPosTH\u001b[0m\u001b[0;34m]\u001b[0m\u001b[0;34m)\u001b[0m\u001b[0;34m)\u001b[0m\u001b[0;34m\u001b[0m\u001b[0;34m\u001b[0m\u001b[0m\n\u001b[0;32m----> 6\u001b[0;31m     \u001b[0mtime\u001b[0m\u001b[0;34m.\u001b[0m\u001b[0msleep\u001b[0m\u001b[0;34m(\u001b[0m\u001b[0;36m1.\u001b[0m\u001b[0;34m/\u001b[0m\u001b[0;36m60.\u001b[0m\u001b[0;34m)\u001b[0m\u001b[0;34m\u001b[0m\u001b[0;34m\u001b[0m\u001b[0m\n\u001b[0m\u001b[1;32m      7\u001b[0m \u001b[0;31m#     print(p.getBasePositionAndOrientation(pizza))\u001b[0m\u001b[0;34m\u001b[0m\u001b[0;34m\u001b[0m\u001b[0;34m\u001b[0m\u001b[0m\n\u001b[1;32m      8\u001b[0m \u001b[0;31m#     print(p.getBaseVelocity(pizza))\u001b[0m\u001b[0;34m\u001b[0m\u001b[0;34m\u001b[0m\u001b[0;34m\u001b[0m\u001b[0m\n",
      "\u001b[0;31mKeyboardInterrupt\u001b[0m: "
     ]
    }
   ],
   "source": [
    "while True:\n",
    "    targetPosX = p.readUserDebugParameter(targetPosXId)\n",
    "    targetPosY = p.readUserDebugParameter(targetPosYId)\n",
    "    targetPosTH = p.readUserDebugParameter(targetPosTHId)\n",
    "    panda.step(np.array([targetPosX, targetPosY, targetPosTH]))\n",
    "    time.sleep(1./60.)\n",
    "#     print(p.getBasePositionAndOrientation(pizza))\n",
    "#     print(p.getBaseVelocity(pizza))"
   ]
  },
  {
   "cell_type": "code",
   "execution_count": 7,
   "metadata": {},
   "outputs": [
    {
     "data": {
      "text/plain": [
       "((0.7332549623147928, -9.028825902486918e-05, 0.23101649172868027),\n",
       " (-0.05122355687644141,\n",
       "  1.6301575308878612e-06,\n",
       "  0.9986872102885749,\n",
       "  5.6782854699545384e-05),\n",
       " (0.0, 0.0, 0.0),\n",
       " (0.0, 0.0, 0.0, 1.0),\n",
       " (0.7332549691200256, -9.028826025314629e-05, 0.23101648688316345),\n",
       " (-0.05122355744242668,\n",
       "  1.6301576124533312e-06,\n",
       "  0.998687207698822,\n",
       "  5.678285378962755e-05))"
      ]
     },
     "execution_count": 7,
     "metadata": {},
     "output_type": "execute_result"
    }
   ],
   "source": [
    "p.getLinkState(panda.robot_id, 12)"
   ]
  },
  {
   "cell_type": "code",
   "execution_count": 20,
   "metadata": {},
   "outputs": [],
   "source": [
    "p.getLinkState(pizza, 0)"
   ]
  },
  {
   "cell_type": "code",
   "execution_count": 4,
   "metadata": {},
   "outputs": [],
   "source": [
    "p.configureDebugVisualizer(p.COV_ENABLE_PLANAR_REFLECTION, groundid)"
   ]
  },
  {
   "cell_type": "code",
   "execution_count": 5,
   "metadata": {},
   "outputs": [
    {
     "ename": "NameError",
     "evalue": "name 'panda' is not defined",
     "output_type": "error",
     "traceback": [
      "\u001b[0;31m---------------------------------------------------------------------------\u001b[0m",
      "\u001b[0;31mNameError\u001b[0m                                 Traceback (most recent call last)",
      "\u001b[0;32m<ipython-input-5-7e3c28b4f601>\u001b[0m in \u001b[0;36m<module>\u001b[0;34m\u001b[0m\n\u001b[0;32m----> 1\u001b[0;31m \u001b[0mpanda\u001b[0m\u001b[0;34m.\u001b[0m\u001b[0mpanda\u001b[0m\u001b[0;34m\u001b[0m\u001b[0;34m\u001b[0m\u001b[0m\n\u001b[0m",
      "\u001b[0;31mNameError\u001b[0m: name 'panda' is not defined"
     ]
    }
   ],
   "source": [
    "panda.panda"
   ]
  },
  {
   "cell_type": "code",
   "execution_count": 6,
   "metadata": {},
   "outputs": [],
   "source": [
    "panda = p.loadURDF(\"franka_panda/panda.urdf\", np.array([0,0,0]), useFixedBase=True, flags=flags)\n"
   ]
  },
  {
   "cell_type": "code",
   "execution_count": null,
   "metadata": {},
   "outputs": [],
   "source": []
  }
 ],
 "metadata": {
  "kernelspec": {
   "display_name": "Python 3",
   "language": "python",
   "name": "python3"
  },
  "language_info": {
   "codemirror_mode": {
    "name": "ipython",
    "version": 3
   },
   "file_extension": ".py",
   "mimetype": "text/x-python",
   "name": "python",
   "nbconvert_exporter": "python",
   "pygments_lexer": "ipython3",
   "version": "3.6.9"
  }
 },
 "nbformat": 4,
 "nbformat_minor": 4
}
