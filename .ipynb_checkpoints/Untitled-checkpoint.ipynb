{
 "cells": [
  {
   "cell_type": "code",
   "execution_count": 1,
   "metadata": {},
   "outputs": [],
   "source": [
    "import pybullet as p\n",
    "import pybullet_data as pd\n",
    "import math\n",
    "import time\n",
    "import numpy as np\n",
    "from panda_env import PandaChefEnv"
   ]
  },
  {
   "cell_type": "code",
   "execution_count": 2,
   "metadata": {},
   "outputs": [],
   "source": [
    "# p.connect(p.GUI)\n",
    "# p.configureDebugVisualizer(p.COV_ENABLE_Y_AXIS_UP, 1)\n",
    "# p.configureDebugVisualizer(p.COV_ENABLE_RENDERING, 1)\n",
    "# p.setAdditionalSearchPath(pd.getDataPath())\n",
    "\n",
    "# timeStep=1./200.\n",
    "# p.setTimeStep(timeStep)\n",
    "# p.setGravity(0., 0., -9.81)\n",
    " \n",
    "panda = PandaChefEnv(render=True)\n",
    "# p.configureDebugVisualizer(p.COV_ENABLE_GUI, 0)\n",
    "\n",
    "targetPosXId = p.addUserDebugParameter(\"targetPosX\",-1,1,0)\n",
    "targetPosYId = p.addUserDebugParameter(\"targetPosY\",-1,1,0)\n",
    "targetPosTHId = p.addUserDebugParameter(\"targetPosZ\",-1,1,0)"
   ]
  },
  {
   "cell_type": "code",
   "execution_count": 3,
   "metadata": {},
   "outputs": [
    {
     "data": {
      "text/plain": [
       "6"
      ]
     },
     "execution_count": 3,
     "metadata": {},
     "output_type": "execute_result"
    }
   ],
   "source": [
    "p.addUserDebugLine([0.4, 0., 0.1], [0.8, 0., 0.1])\n",
    "p.addUserDebugLine([0.8, 0., 0.1], [0.8, 0., 0.7])\n",
    "p.addUserDebugLine([0.8, 0., 0.7], [0.4, 0., 0.7])\n",
    "p.addUserDebugLine([0.4, 0., 0.7], [0.4, 0., 0.1])"
   ]
  },
  {
   "cell_type": "code",
   "execution_count": 4,
   "metadata": {},
   "outputs": [],
   "source": [
    "panda.reset()"
   ]
  },
  {
   "cell_type": "code",
   "execution_count": 5,
   "metadata": {},
   "outputs": [],
   "source": [
    "# p.loadURDF('./pan_tefal/pan_tefal.urdf', np.array([1.0, 1., 0.2]))\n",
    "for _ in range(100):\n",
    "    p.stepSimulation()"
   ]
  },
  {
   "cell_type": "code",
   "execution_count": 17,
   "metadata": {},
   "outputs": [
    {
     "data": {
      "text/plain": [
       "(array([ 5.99983752e-01, -4.03948860e-07,  3.99994701e-01,  5.59899536e-06,\n",
       "         2.86567615e-06,  1.00000000e+00, -1.99162173e-06,  1.81453326e+00,\n",
       "        -4.67770651e-02,  1.71225989e+00,  1.16058102e-02,  7.97016755e-01,\n",
       "        -1.21394363e-02,  6.03723638e-01,  1.09153757e+00, -5.03502258e-02,\n",
       "        -2.83576113e+00,  6.38517756e-01,  1.48741930e+01,  3.17770403e-01]),\n",
       " 13.08551788699349,\n",
       " True,\n",
       " {})"
      ]
     },
     "execution_count": 17,
     "metadata": {},
     "output_type": "execute_result"
    }
   ],
   "source": [
    "\n",
    "panda.step(np.array([targetPosX, targetPosY, targetPosTH]))"
   ]
  },
  {
   "cell_type": "code",
   "execution_count": 6,
   "metadata": {},
   "outputs": [
    {
     "ename": "KeyboardInterrupt",
     "evalue": "",
     "output_type": "error",
     "traceback": [
      "\u001b[0;31m---------------------------------------------------------------------------\u001b[0m",
      "\u001b[0;31mKeyboardInterrupt\u001b[0m                         Traceback (most recent call last)",
      "\u001b[0;32m<ipython-input-6-27df71021bda>\u001b[0m in \u001b[0;36m<module>\u001b[0;34m\u001b[0m\n\u001b[1;32m      4\u001b[0m     \u001b[0mtargetPosTH\u001b[0m \u001b[0;34m=\u001b[0m \u001b[0mp\u001b[0m\u001b[0;34m.\u001b[0m\u001b[0mreadUserDebugParameter\u001b[0m\u001b[0;34m(\u001b[0m\u001b[0mtargetPosTHId\u001b[0m\u001b[0;34m)\u001b[0m\u001b[0;34m\u001b[0m\u001b[0;34m\u001b[0m\u001b[0m\n\u001b[1;32m      5\u001b[0m     \u001b[0mpanda\u001b[0m\u001b[0;34m.\u001b[0m\u001b[0mstep\u001b[0m\u001b[0;34m(\u001b[0m\u001b[0mnp\u001b[0m\u001b[0;34m.\u001b[0m\u001b[0marray\u001b[0m\u001b[0;34m(\u001b[0m\u001b[0;34m[\u001b[0m\u001b[0mtargetPosX\u001b[0m\u001b[0;34m,\u001b[0m \u001b[0mtargetPosY\u001b[0m\u001b[0;34m,\u001b[0m \u001b[0mtargetPosTH\u001b[0m\u001b[0;34m]\u001b[0m\u001b[0;34m)\u001b[0m\u001b[0;34m)\u001b[0m\u001b[0;34m\u001b[0m\u001b[0;34m\u001b[0m\u001b[0m\n\u001b[0;32m----> 6\u001b[0;31m     \u001b[0mtime\u001b[0m\u001b[0;34m.\u001b[0m\u001b[0msleep\u001b[0m\u001b[0;34m(\u001b[0m\u001b[0;36m1.\u001b[0m\u001b[0;34m/\u001b[0m\u001b[0;36m60.\u001b[0m\u001b[0;34m)\u001b[0m\u001b[0;34m\u001b[0m\u001b[0;34m\u001b[0m\u001b[0m\n\u001b[0m\u001b[1;32m      7\u001b[0m \u001b[0;31m#     print(p.getBasePositionAndOrientation(pizza))\u001b[0m\u001b[0;34m\u001b[0m\u001b[0;34m\u001b[0m\u001b[0;34m\u001b[0m\u001b[0m\n\u001b[1;32m      8\u001b[0m \u001b[0;31m#     print(p.getBaseVelocity(pizza))\u001b[0m\u001b[0;34m\u001b[0m\u001b[0;34m\u001b[0m\u001b[0;34m\u001b[0m\u001b[0m\n",
      "\u001b[0;31mKeyboardInterrupt\u001b[0m: "
     ]
    }
   ],
   "source": [
    "while True:\n",
    "    targetPosX = p.readUserDebugParameter(targetPosXId)\n",
    "    targetPosY = p.readUserDebugParameter(targetPosYId)\n",
    "    targetPosTH = p.readUserDebugParameter(targetPosTHId)\n",
    "    panda.step(np.array([targetPosX, targetPosY, targetPosTH]))\n",
    "    time.sleep(1./60.)\n",
    "#     print(p.getBasePositionAndOrientation(pizza))\n",
    "#     print(p.getBaseVelocity(pizza))"
   ]
  },
  {
   "cell_type": "code",
   "execution_count": 7,
   "metadata": {},
   "outputs": [
    {
     "data": {
      "text/plain": [
       "((0.7332549623147928, -9.028825902486918e-05, 0.23101649172868027),\n",
       " (-0.05122355687644141,\n",
       "  1.6301575308878612e-06,\n",
       "  0.9986872102885749,\n",
       "  5.6782854699545384e-05),\n",
       " (0.0, 0.0, 0.0),\n",
       " (0.0, 0.0, 0.0, 1.0),\n",
       " (0.7332549691200256, -9.028826025314629e-05, 0.23101648688316345),\n",
       " (-0.05122355744242668,\n",
       "  1.6301576124533312e-06,\n",
       "  0.998687207698822,\n",
       "  5.678285378962755e-05))"
      ]
     },
     "execution_count": 7,
     "metadata": {},
     "output_type": "execute_result"
    }
   ],
   "source": [
    "p.getLinkState(panda.robot_id, 12)"
   ]
  },
  {
   "cell_type": "code",
   "execution_count": 20,
   "metadata": {},
   "outputs": [],
   "source": [
    "p.getLinkState(pizza, 0)"
   ]
  },
  {
   "cell_type": "code",
   "execution_count": 4,
   "metadata": {},
   "outputs": [],
   "source": [
    "p.configureDebugVisualizer(p.COV_ENABLE_PLANAR_REFLECTION, groundid)"
   ]
  },
  {
   "cell_type": "code",
   "execution_count": 5,
   "metadata": {},
   "outputs": [
    {
     "ename": "NameError",
     "evalue": "name 'panda' is not defined",
     "output_type": "error",
     "traceback": [
      "\u001b[0;31m---------------------------------------------------------------------------\u001b[0m",
      "\u001b[0;31mNameError\u001b[0m                                 Traceback (most recent call last)",
      "\u001b[0;32m<ipython-input-5-7e3c28b4f601>\u001b[0m in \u001b[0;36m<module>\u001b[0;34m\u001b[0m\n\u001b[0;32m----> 1\u001b[0;31m \u001b[0mpanda\u001b[0m\u001b[0;34m.\u001b[0m\u001b[0mpanda\u001b[0m\u001b[0;34m\u001b[0m\u001b[0;34m\u001b[0m\u001b[0m\n\u001b[0m",
      "\u001b[0;31mNameError\u001b[0m: name 'panda' is not defined"
     ]
    }
   ],
   "source": [
    "panda.panda"
   ]
  },
  {
   "cell_type": "code",
   "execution_count": 6,
   "metadata": {},
   "outputs": [],
   "source": [
    "panda = p.loadURDF(\"franka_panda/panda.urdf\", np.array([0,0,0]), useFixedBase=True, flags=flags)\n"
   ]
  },
  {
   "cell_type": "code",
   "execution_count": null,
   "metadata": {},
   "outputs": [],
   "source": []
  }
 ],
 "metadata": {
  "kernelspec": {
   "display_name": "Python 3",
   "language": "python",
   "name": "python3"
  },
  "language_info": {
   "codemirror_mode": {
    "name": "ipython",
    "version": 3
   },
   "file_extension": ".py",
   "mimetype": "text/x-python",
   "name": "python",
   "nbconvert_exporter": "python",
   "pygments_lexer": "ipython3",
   "version": "3.6.9"
  }
 },
 "nbformat": 4,
 "nbformat_minor": 4
}
