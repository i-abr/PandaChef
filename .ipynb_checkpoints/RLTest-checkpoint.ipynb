{
 "cells": [
  {
   "cell_type": "code",
   "execution_count": 1,
   "metadata": {},
   "outputs": [],
   "source": [
    "import pybullet as p\n",
    "import pybullet_data as pd\n",
    "import math\n",
    "import time\n",
    "import numpy as np\n",
    "import torch\n",
    "from panda_chef import PandaChefEnv\n",
    "from sac_lib import SoftActorCritic, PolicyNetwork, ReplayBuffer"
   ]
  },
  {
   "cell_type": "code",
   "execution_count": 2,
   "metadata": {},
   "outputs": [
    {
     "name": "stderr",
     "output_type": "stream",
     "text": [
      "/home/anon/.local/lib/python3.8/site-packages/gym/logger.py:30: UserWarning: \u001b[33mWARN: Box bound precision lowered by casting to float32\u001b[0m\n",
      "  warnings.warn(colorize('%s: %s'%('WARN', msg % args), 'yellow'))\n"
     ]
    }
   ],
   "source": [
    "env = PandaChefEnv(render=True)\n",
    "state_dim = env.observation_space.shape[0]\n",
    "action_dim = env.action_space.shape[0]\n"
   ]
  },
  {
   "cell_type": "code",
   "execution_count": 3,
   "metadata": {},
   "outputs": [],
   "source": [
    "replay_buffer = ReplayBuffer(100000)"
   ]
  },
  {
   "cell_type": "code",
   "execution_count": 4,
   "metadata": {},
   "outputs": [],
   "source": [
    "device = torch.device('cuda:0' if torch.cuda.is_available() else 'cpu')"
   ]
  },
  {
   "cell_type": "code",
   "execution_count": 5,
   "metadata": {},
   "outputs": [],
   "source": [
    "policy_net = PolicyNetwork(state_dim, action_dim, 256).to(device)\n",
    "sac = SoftActorCritic(policy_net, state_dim, action_dim, replay_buffer)"
   ]
  },
  {
   "cell_type": "code",
   "execution_count": 6,
   "metadata": {},
   "outputs": [
    {
     "name": "stdout",
     "output_type": "stream",
     "text": [
      "-462.2137756226124\n",
      "-324.43762704142904\n",
      "-561.1861110370172\n",
      "-423.80479572901646\n",
      "-488.4123625384477\n",
      "-402.63282092067624\n",
      "-481.2005650579614\n",
      "-899.5553661323764\n",
      "-572.9475008545035\n",
      "-613.1822667008263\n",
      "-150.01680903292137\n",
      "-401.2056776280649\n",
      "-416.3572164644014\n",
      "-399.2236154728695\n",
      "-205.51045889526128\n",
      "-466.85233065869727\n",
      "-307.2837262025596\n",
      "-510.4118048407236\n",
      "-277.8496335803546\n",
      "-208.82339848895444\n",
      "-359.83658329149534\n",
      "-41.323307316409235\n",
      "-58.558930345650204\n",
      "-231.36130236490825\n",
      "-165.64468202026998\n",
      "-87.59333378294696\n",
      "-347.60818635559565\n",
      "-133.00617380758857\n",
      "-58.92679400205978\n",
      "-62.54184854262134\n",
      "-42.644659649836775\n",
      "-54.49537875565826\n",
      "-43.021457027120995\n",
      "-309.6258775006639\n",
      "-159.44177293664904\n",
      "-43.583579255659316\n",
      "-60.46902712318853\n",
      "-48.583848352695355\n",
      "-328.93714363467984\n",
      "-61.740531660974455\n",
      "-81.8948215953492\n",
      "-144.07467544982882\n",
      "-300.82287356036926\n",
      "-52.0612497597898\n",
      "-142.62001818461363\n",
      "-79.79135762678771\n",
      "-45.57795415514987\n",
      "-169.35246515604578\n",
      "-271.3130002945969\n",
      "-477.97850234674246\n",
      "-399.6181350807058\n",
      "-121.88320772545514\n",
      "-237.19550111582066\n",
      "-85.45884098235236\n",
      "-162.26372629940255\n",
      "-298.7485931060084\n",
      "-43.20149186820941\n",
      "-41.653762296490115\n",
      "-42.15760628017749\n",
      "-478.1723067109077\n",
      "-50.22775852055392\n",
      "-303.691149486142\n",
      "-591.408375839537\n",
      "-291.84951119860386\n",
      "-43.71002091545198\n",
      "-67.10499265713884\n",
      "-159.18008361746072\n",
      "-107.73980892112414\n",
      "-128.48403287977007\n",
      "-58.01974560460801\n",
      "-266.6069750115614\n",
      "-70.64517608792585\n",
      "-45.61004705798009\n",
      "-44.31484591265171\n",
      "-42.99166423074334\n",
      "-41.585637655491695\n",
      "-43.56065527134541\n",
      "-106.15749497315097\n",
      "-41.22799879743988\n",
      "-41.251796556105816\n",
      "-115.84040020332033\n",
      "-279.12007764924226\n",
      "-82.72607453972944\n",
      "-43.80214084648434\n",
      "-148.4129059433477\n",
      "-507.1145910489263\n",
      "-316.17442939385705\n",
      "-95.25170416837122\n",
      "-261.72641792542555\n",
      "-64.54220258645785\n",
      "-57.194585889792144\n",
      "-64.55312840345462\n",
      "-359.04642214635817\n",
      "-79.77740130952618\n",
      "-97.49820458117021\n",
      "-53.731985951865695\n",
      "-64.92285417565685\n",
      "-59.65851928190235\n",
      "-468.4760711468885\n",
      "-54.25853678812593\n",
      "-115.96874370889121\n",
      "-39.68067636672713\n",
      "-375.9435135396807\n",
      "-436.1642431528775\n",
      "-359.80918251717264\n",
      "-38.984887512770875\n",
      "-61.01199631997501\n",
      "-259.5073122289231\n",
      "-103.43880979391975\n",
      "-37.1608489669664\n",
      "-37.29111682775425\n",
      "-37.24132728144664\n",
      "-442.2783057791459\n",
      "-42.57819067974446\n",
      "-167.2111008661319\n",
      "-479.2358852973972\n",
      "-114.90255658865787\n",
      "-37.72070282557684\n",
      "-38.965256165627366\n",
      "-37.446284853117064\n",
      "-37.887088805264646\n",
      "-37.63308743142692\n",
      "-37.86723509648589\n",
      "-40.75069243391364\n",
      "-38.050627363405134\n",
      "-37.66020161403142\n",
      "-58.267343136667385\n",
      "-38.101741403065844\n",
      "-39.58323119635931\n",
      "-37.93914868326497\n",
      "-379.590026878674\n",
      "-48.898605303743075\n",
      "-227.6033849086523\n",
      "-43.52331704368158\n",
      "-43.51487267576367\n",
      "-91.95359904801279\n",
      "-299.07847010029906\n",
      "-78.14723958917334\n",
      "-95.27581416513982\n",
      "-132.02143720399522\n",
      "-245.38126045382808\n",
      "-142.68697432814957\n",
      "-71.24725208948125\n",
      "-44.90931308555917\n",
      "-62.297339334971575\n",
      "-103.13930555518705\n",
      "-60.869164560194385\n",
      "-46.36579720559057\n",
      "-42.190348601315485\n",
      "-46.13170432685642\n",
      "-48.783922144939034\n",
      "-58.53535208335815\n",
      "-67.33363688647647\n",
      "-94.59605221631436\n",
      "-77.64608862358737\n",
      "-232.11299600976363\n",
      "-435.34602568450435\n",
      "-39.78997507486474\n",
      "-62.66981044633792\n",
      "-85.97958939448458\n",
      "-193.68103128169741\n",
      "-41.16748293420617\n",
      "-102.86395056086167\n",
      "-57.07400555500719\n",
      "-96.48805598689599\n",
      "-357.9603907921092\n",
      "-111.14319486026433\n",
      "-41.629416984181745\n",
      "-107.23712866289722\n",
      "-118.85632231204764\n",
      "-115.8247873586625\n",
      "-99.97694322560558\n",
      "-261.24207345576247\n",
      "-61.51379147455519\n",
      "-76.50156455915202\n",
      "-42.769305097606725\n",
      "-167.85785940507137\n",
      "-268.02471395039964\n",
      "-114.65439079356352\n",
      "-58.22318011198256\n",
      "-56.346748519030506\n",
      "-41.426550469750175\n",
      "-182.3538398355439\n",
      "-270.093764107551\n",
      "-255.46017154199996\n",
      "-76.18234007585289\n",
      "-271.00390657210585\n",
      "-49.93921360183267\n",
      "-38.63600050533582\n",
      "-39.258473382603334\n",
      "-38.69768313024376\n",
      "-44.269942919355934\n",
      "-38.571789991619205\n",
      "-39.1781790772386\n",
      "-38.048220808057735\n",
      "-39.93296888600104\n",
      "-171.10805798223262\n",
      "-47.784263841808546\n",
      "-49.655454934053296\n",
      "-105.92008246798265\n",
      "-373.81473967210025\n",
      "-129.83533375941107\n",
      "-321.96323498839797\n"
     ]
    },
    {
     "ename": "error",
     "evalue": "Not connected to physics server.",
     "output_type": "error",
     "traceback": [
      "\u001b[0;31m---------------------------------------------------------------------------\u001b[0m",
      "\u001b[0;31merror\u001b[0m                                     Traceback (most recent call last)",
      "\u001b[0;32m<ipython-input-6-d9adc56ad51b>\u001b[0m in \u001b[0;36m<module>\u001b[0;34m\u001b[0m\n\u001b[1;32m      9\u001b[0m \u001b[0;34m\u001b[0m\u001b[0m\n\u001b[1;32m     10\u001b[0m         \u001b[0maction\u001b[0m \u001b[0;34m=\u001b[0m \u001b[0mpolicy_net\u001b[0m\u001b[0;34m.\u001b[0m\u001b[0mget_action\u001b[0m\u001b[0;34m(\u001b[0m\u001b[0mstate\u001b[0m\u001b[0;34m)\u001b[0m\u001b[0;34m\u001b[0m\u001b[0;34m\u001b[0m\u001b[0m\n\u001b[0;32m---> 11\u001b[0;31m         \u001b[0mnext_state\u001b[0m\u001b[0;34m,\u001b[0m \u001b[0mreward\u001b[0m\u001b[0;34m,\u001b[0m \u001b[0mdone\u001b[0m\u001b[0;34m,\u001b[0m \u001b[0m_\u001b[0m \u001b[0;34m=\u001b[0m \u001b[0menv\u001b[0m\u001b[0;34m.\u001b[0m\u001b[0mstep\u001b[0m\u001b[0;34m(\u001b[0m\u001b[0maction\u001b[0m\u001b[0;34m)\u001b[0m\u001b[0;34m\u001b[0m\u001b[0;34m\u001b[0m\u001b[0m\n\u001b[0m\u001b[1;32m     12\u001b[0m \u001b[0;34m\u001b[0m\u001b[0m\n\u001b[1;32m     13\u001b[0m         \u001b[0mreplay_buffer\u001b[0m\u001b[0;34m.\u001b[0m\u001b[0mpush\u001b[0m\u001b[0;34m(\u001b[0m\u001b[0mstate\u001b[0m\u001b[0;34m,\u001b[0m \u001b[0maction\u001b[0m\u001b[0;34m,\u001b[0m \u001b[0mreward\u001b[0m\u001b[0;34m,\u001b[0m \u001b[0mnext_state\u001b[0m\u001b[0;34m,\u001b[0m \u001b[0mdone\u001b[0m\u001b[0;34m)\u001b[0m\u001b[0;34m\u001b[0m\u001b[0;34m\u001b[0m\u001b[0m\n",
      "\u001b[0;32m~/PlayGround/PandaChef/panda_chef/pandaIK_env.py\u001b[0m in \u001b[0;36mstep\u001b[0;34m(self, action)\u001b[0m\n\u001b[1;32m    145\u001b[0m \u001b[0;34m\u001b[0m\u001b[0m\n\u001b[1;32m    146\u001b[0m         \u001b[0;31m# get IK EE pose\u001b[0m\u001b[0;34m\u001b[0m\u001b[0;34m\u001b[0m\u001b[0;34m\u001b[0m\u001b[0m\n\u001b[0;32m--> 147\u001b[0;31m         jointPoses = bullet_client.calculateInverseKinematics(self.robot_id,\n\u001b[0m\u001b[1;32m    148\u001b[0m                         \u001b[0mpandaEndEffectorIndex\u001b[0m\u001b[0;34m,\u001b[0m \u001b[0mtargetPosition\u001b[0m\u001b[0;34m=\u001b[0m\u001b[0mnew_pos\u001b[0m\u001b[0;34m,\u001b[0m \u001b[0mtargetOrientation\u001b[0m\u001b[0;34m=\u001b[0m\u001b[0mnew_quat_orn\u001b[0m\u001b[0;34m,\u001b[0m\u001b[0;34m\u001b[0m\u001b[0;34m\u001b[0m\u001b[0m\n\u001b[1;32m    149\u001b[0m                         \u001b[0mlowerLimits\u001b[0m\u001b[0;34m=\u001b[0m\u001b[0mll\u001b[0m\u001b[0;34m,\u001b[0m \u001b[0mupperLimits\u001b[0m\u001b[0;34m=\u001b[0m\u001b[0mul\u001b[0m\u001b[0;34m,\u001b[0m \u001b[0mjointRanges\u001b[0m\u001b[0;34m=\u001b[0m\u001b[0mjr\u001b[0m\u001b[0;34m,\u001b[0m\u001b[0mrestPoses\u001b[0m\u001b[0;34m=\u001b[0m\u001b[0mrp\u001b[0m\u001b[0;34m,\u001b[0m\u001b[0;34m\u001b[0m\u001b[0;34m\u001b[0m\u001b[0m\n",
      "\u001b[0;31merror\u001b[0m: Not connected to physics server."
     ]
    }
   ],
   "source": [
    "frame_idx = 0\n",
    "max_frames = 100000\n",
    "batch_size = 128\n",
    "\n",
    "while frame_idx < max_frames:\n",
    "    ep_reward = 0.\n",
    "    state = env.reset()\n",
    "    for t in range(300):\n",
    "        \n",
    "        action = policy_net.get_action(state)\n",
    "        next_state, reward, done, _ = env.step(action)\n",
    "        \n",
    "        replay_buffer.push(state, action, reward, next_state, done)\n",
    "        state = next_state\n",
    "        ep_reward += reward\n",
    "        if len(replay_buffer)>batch_size:\n",
    "            sac.update(batch_size)\n",
    "        if done:\n",
    "            break\n",
    "        \n",
    "    print(ep_reward)\n",
    "        \n"
   ]
  },
  {
   "cell_type": "code",
   "execution_count": null,
   "metadata": {},
   "outputs": [],
   "source": [
    "# p.loadURDF('./pan_tefal/pan_tefal.urdf', np.array([1.0, 1., 0.2]))\n",
    "for _ in range(100):\n",
    "    p.stepSimulation()"
   ]
  },
  {
   "cell_type": "code",
   "execution_count": null,
   "metadata": {},
   "outputs": [],
   "source": [
    "\n",
    "panda.step(np.array([targetPosX, targetPosY, targetPosTH]))"
   ]
  },
  {
   "cell_type": "code",
   "execution_count": null,
   "metadata": {},
   "outputs": [],
   "source": [
    "while True:\n",
    "    targetPosX = p.readUserDebugParameter(targetPosXId)\n",
    "    targetPosY = p.readUserDebugParameter(targetPosYId)\n",
    "    targetPosTH = p.readUserDebugParameter(targetPosTHId)\n",
    "    panda.step(np.array([targetPosX, targetPosY, targetPosTH]))\n",
    "    time.sleep(1./60.)\n",
    "#     print(p.getBasePositionAndOrientation(pizza))\n",
    "#     print(p.getBaseVelocity(pizza))"
   ]
  },
  {
   "cell_type": "code",
   "execution_count": 7,
   "metadata": {},
   "outputs": [
    {
     "data": {
      "text/plain": [
       "((0.7332549623147928, -9.028825902486918e-05, 0.23101649172868027),\n",
       " (-0.05122355687644141,\n",
       "  1.6301575308878612e-06,\n",
       "  0.9986872102885749,\n",
       "  5.6782854699545384e-05),\n",
       " (0.0, 0.0, 0.0),\n",
       " (0.0, 0.0, 0.0, 1.0),\n",
       " (0.7332549691200256, -9.028826025314629e-05, 0.23101648688316345),\n",
       " (-0.05122355744242668,\n",
       "  1.6301576124533312e-06,\n",
       "  0.998687207698822,\n",
       "  5.678285378962755e-05))"
      ]
     },
     "execution_count": 7,
     "metadata": {},
     "output_type": "execute_result"
    }
   ],
   "source": [
    "p.getLinkState(panda.robot_id, 12)"
   ]
  },
  {
   "cell_type": "code",
   "execution_count": 20,
   "metadata": {},
   "outputs": [],
   "source": [
    "p.getLinkState(pizza, 0)"
   ]
  },
  {
   "cell_type": "code",
   "execution_count": 4,
   "metadata": {},
   "outputs": [],
   "source": [
    "p.configureDebugVisualizer(p.COV_ENABLE_PLANAR_REFLECTION, groundid)"
   ]
  },
  {
   "cell_type": "code",
   "execution_count": 5,
   "metadata": {},
   "outputs": [
    {
     "ename": "NameError",
     "evalue": "name 'panda' is not defined",
     "output_type": "error",
     "traceback": [
      "\u001b[0;31m---------------------------------------------------------------------------\u001b[0m",
      "\u001b[0;31mNameError\u001b[0m                                 Traceback (most recent call last)",
      "\u001b[0;32m<ipython-input-5-7e3c28b4f601>\u001b[0m in \u001b[0;36m<module>\u001b[0;34m\u001b[0m\n\u001b[0;32m----> 1\u001b[0;31m \u001b[0mpanda\u001b[0m\u001b[0;34m.\u001b[0m\u001b[0mpanda\u001b[0m\u001b[0;34m\u001b[0m\u001b[0;34m\u001b[0m\u001b[0m\n\u001b[0m",
      "\u001b[0;31mNameError\u001b[0m: name 'panda' is not defined"
     ]
    }
   ],
   "source": [
    "panda.panda"
   ]
  },
  {
   "cell_type": "code",
   "execution_count": 6,
   "metadata": {},
   "outputs": [],
   "source": [
    "panda = p.loadURDF(\"franka_panda/panda.urdf\", np.array([0,0,0]), useFixedBase=True, flags=flags)\n"
   ]
  },
  {
   "cell_type": "code",
   "execution_count": null,
   "metadata": {},
   "outputs": [],
   "source": []
  }
 ],
 "metadata": {
  "kernelspec": {
   "display_name": "Python 3",
   "language": "python",
   "name": "python3"
  },
  "language_info": {
   "codemirror_mode": {
    "name": "ipython",
    "version": 3
   },
   "file_extension": ".py",
   "mimetype": "text/x-python",
   "name": "python",
   "nbconvert_exporter": "python",
   "pygments_lexer": "ipython3",
   "version": "3.8.5"
  }
 },
 "nbformat": 4,
 "nbformat_minor": 4
}
