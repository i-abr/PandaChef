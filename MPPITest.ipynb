{
 "cells": [
  {
   "cell_type": "code",
   "execution_count": 1,
   "metadata": {},
   "outputs": [],
   "source": [
    "import pybullet as p\n",
    "import pybullet_data as pd\n",
    "import math\n",
    "import time\n",
    "import numpy as onp\n",
    "from replay_buffer import ReplayBuffer\n",
    "from panda_chef import PandaChefEnv\n",
    "from IPython.display import clear_output"
   ]
  },
  {
   "cell_type": "code",
   "execution_count": 2,
   "metadata": {},
   "outputs": [],
   "source": [
    "env = PandaChefEnv(render=True)\n",
    "state_dim = env.observation_space.shape[0]\n",
    "action_dim = env.action_space.shape[0]\n"
   ]
  },
  {
   "cell_type": "code",
   "execution_count": 3,
   "metadata": {},
   "outputs": [],
   "source": [
    "import jax\n",
    "import jax.numpy as np\n",
    "import jax.random as jnp_random\n",
    "from jax import grad, jacfwd, jit, partial, vmap\n",
    "from jax.lax import scan\n",
    "from jax.experimental import stax, optimizers\n",
    "from jax.ops import index, index_add, index_update"
   ]
  },
  {
   "cell_type": "code",
   "execution_count": 4,
   "metadata": {},
   "outputs": [
    {
     "name": "stderr",
     "output_type": "stream",
     "text": [
      "/home/burn/.local/lib/python3.6/site-packages/jax/lib/xla_bridge.py:125: UserWarning: No GPU/TPU found, falling back to CPU.\n",
      "  warnings.warn('No GPU/TPU found, falling back to CPU.')\n"
     ]
    }
   ],
   "source": [
    "model_init, model = stax.serial(\n",
    "    stax.Dense(128), stax.Relu, \n",
    "    stax.Dense(128), stax.Relu,\n",
    "    stax.Dense(state_dim+1)\n",
    ")\n",
    "rng = jnp_random.PRNGKey(0)\n",
    "in_shape = (-1, state_dim+action_dim+1)\n",
    "out_shape, params = model_init(rng, in_shape)\n",
    "\n",
    "\n",
    "def aug_state(r, s):\n",
    "    return onp.concatenate([[r], s])\n",
    "\n",
    "def log_prob(mu, log_std, y):\n",
    "    std = np.exp(np.clip(log_std, -5, 2))\n",
    "    return -0.5*np.sum(np.square(mu-y)/std) \\\n",
    "                -0.5*np.sum(np.clip(log_std, -5, 2))\n",
    "df = jit(jacfwd(model, argnums=1))\n",
    "@jit    \n",
    "def loss(params, batch):\n",
    "    x, y, u = batch\n",
    "    mu = model(params, np.concatenate([x,u],axis=1))\n",
    "#     v = df(params, np.concatenate([x,u],axis=1))\n",
    "    return 0.5*np.mean(np.square(mu-y)) #+ 1e-3 * np.mean(v**2)\n",
    "\n",
    "\n",
    "@jit\n",
    "def step(i, opt_state, batch):\n",
    "    params = get_params(opt_state)\n",
    "    g = grad(loss)(params, batch)\n",
    "    return opt_update(i, g, opt_state)\n",
    "\n",
    "\n",
    "def batch_update(i, opt_state, replay_buffer, batch_size, verbose=False):\n",
    "    state, action, reward, next_state, next_reward = replay_buffer.sample(batch_size)\n",
    "    x = np.concatenate([reward.reshape(-1,1), state], axis=1)\n",
    "    y = np.concatenate([next_reward.reshape(-1,1), next_state], axis=1)\n",
    "    if verbose:\n",
    "        print(loss(get_params(opt_state), (x,y, action)))\n",
    "    return step(i, opt_state, (x, y, action))\n",
    "\n",
    "\n",
    "@jit\n",
    "def f(x, u, params): \n",
    "    out = model(params, np.concatenate([x, u], axis=1))\n",
    "    mu = out\n",
    "    return mu, mu[:,0]\n",
    "\n",
    "@jit\n",
    "def weight_update(eps, sk):\n",
    "#     sk = sk + 0.1 * log_prob(0.,np.log(0.1), eps)\n",
    "    sk = sk - np.max(sk)\n",
    "    w = np.exp(sk/0.1)+1e-5\n",
    "    w = w/np.sum(w)\n",
    "    return np.dot(w, eps)\n",
    "@jit\n",
    "def predict_from_samples(u, params, x0, eps):\n",
    "    mu, rew = scan(partial(f, params=params), x0, np.expand_dims(u, 1)+eps)\n",
    "    sk = rew\n",
    "    sk = np.cumsum(sk[::-1], axis=0)[::-1]\n",
    "    du = vmap(weight_update)(eps, sk)\n",
    "    return u+du\n",
    "\n",
    "n_samples = 100\n",
    "@jit\n",
    "def mppi(u, x0, params, key):\n",
    "    key, subkey = jnp_random.split(key)\n",
    "    eps = jnp_random.normal(subkey, shape=(u.shape[0], n_samples, u.shape[1])) * 0.1\n",
    "    x0 = x0.reshape(1,-1).repeat(n_samples, axis=0)\n",
    "    u = predict_from_samples(u, params, x0, eps)\n",
    "    return u, key\n",
    "\n",
    "opt_init, opt_update, get_params = optimizers.adam(step_size=3e-4)\n"
   ]
  },
  {
   "cell_type": "code",
   "execution_count": 5,
   "metadata": {},
   "outputs": [
    {
     "ename": "KeyboardInterrupt",
     "evalue": "",
     "output_type": "error",
     "traceback": [
      "\u001b[0;31m---------------------------------------------------------------------------\u001b[0m",
      "\u001b[0;31mKeyboardInterrupt\u001b[0m                         Traceback (most recent call last)",
      "\u001b[0;32m<ipython-input-5-7c8f5333c711>\u001b[0m in \u001b[0;36m<module>\u001b[0;34m\u001b[0m\n\u001b[1;32m     15\u001b[0m     \u001b[0;32mfor\u001b[0m \u001b[0mt\u001b[0m \u001b[0;32min\u001b[0m \u001b[0mrange\u001b[0m\u001b[0;34m(\u001b[0m\u001b[0;36m300\u001b[0m\u001b[0;34m)\u001b[0m\u001b[0;34m:\u001b[0m\u001b[0;34m\u001b[0m\u001b[0;34m\u001b[0m\u001b[0m\n\u001b[1;32m     16\u001b[0m \u001b[0;34m\u001b[0m\u001b[0m\n\u001b[0;32m---> 17\u001b[0;31m         \u001b[0mu\u001b[0m\u001b[0;34m,\u001b[0m \u001b[0mkey\u001b[0m \u001b[0;34m=\u001b[0m \u001b[0mmppi\u001b[0m\u001b[0;34m(\u001b[0m\u001b[0mu\u001b[0m\u001b[0;34m,\u001b[0m \u001b[0maug_state\u001b[0m\u001b[0;34m(\u001b[0m\u001b[0mreward\u001b[0m\u001b[0;34m,\u001b[0m\u001b[0mstate\u001b[0m\u001b[0;34m)\u001b[0m\u001b[0;34m,\u001b[0m \u001b[0mget_params\u001b[0m\u001b[0;34m(\u001b[0m\u001b[0mopt_state\u001b[0m\u001b[0;34m)\u001b[0m\u001b[0;34m,\u001b[0m \u001b[0mkey\u001b[0m\u001b[0;34m)\u001b[0m\u001b[0;34m\u001b[0m\u001b[0;34m\u001b[0m\u001b[0m\n\u001b[0m\u001b[1;32m     18\u001b[0m         \u001b[0maction\u001b[0m \u001b[0;34m=\u001b[0m \u001b[0monp\u001b[0m\u001b[0;34m.\u001b[0m\u001b[0mclip\u001b[0m\u001b[0;34m(\u001b[0m\u001b[0mu\u001b[0m\u001b[0;34m[\u001b[0m\u001b[0;36m0\u001b[0m\u001b[0;34m]\u001b[0m\u001b[0;34m.\u001b[0m\u001b[0mcopy\u001b[0m\u001b[0;34m(\u001b[0m\u001b[0;34m)\u001b[0m\u001b[0;34m,\u001b[0m \u001b[0;34m-\u001b[0m\u001b[0;36m1\u001b[0m\u001b[0;34m,\u001b[0m \u001b[0;36m1\u001b[0m\u001b[0;34m)\u001b[0m\u001b[0;34m\u001b[0m\u001b[0;34m\u001b[0m\u001b[0m\n\u001b[1;32m     19\u001b[0m         \u001b[0mnext_state\u001b[0m\u001b[0;34m,\u001b[0m \u001b[0mnext_reward\u001b[0m\u001b[0;34m,\u001b[0m \u001b[0mdone\u001b[0m\u001b[0;34m,\u001b[0m \u001b[0m_\u001b[0m \u001b[0;34m=\u001b[0m \u001b[0menv\u001b[0m\u001b[0;34m.\u001b[0m\u001b[0mstep\u001b[0m\u001b[0;34m(\u001b[0m\u001b[0maction\u001b[0m\u001b[0;34m)\u001b[0m\u001b[0;34m\u001b[0m\u001b[0;34m\u001b[0m\u001b[0m\n",
      "\u001b[0;32m~/.local/lib/python3.6/site-packages/jax/api.py\u001b[0m in \u001b[0;36mf_jitted\u001b[0;34m(*args, **kwargs)\u001b[0m\n\u001b[1;32m    165\u001b[0m     \u001b[0mflat_fun\u001b[0m\u001b[0;34m,\u001b[0m \u001b[0mout_tree\u001b[0m \u001b[0;34m=\u001b[0m \u001b[0mflatten_fun\u001b[0m\u001b[0;34m(\u001b[0m\u001b[0mf\u001b[0m\u001b[0;34m,\u001b[0m \u001b[0min_tree\u001b[0m\u001b[0;34m)\u001b[0m\u001b[0;34m\u001b[0m\u001b[0;34m\u001b[0m\u001b[0m\n\u001b[1;32m    166\u001b[0m     out = xla.xla_call(flat_fun, *args_flat, device=device, backend=backend,\n\u001b[0;32m--> 167\u001b[0;31m                        name=flat_fun.__name__, donated_invars=donated_invars)\n\u001b[0m\u001b[1;32m    168\u001b[0m     \u001b[0;32mreturn\u001b[0m \u001b[0mtree_unflatten\u001b[0m\u001b[0;34m(\u001b[0m\u001b[0mout_tree\u001b[0m\u001b[0;34m(\u001b[0m\u001b[0;34m)\u001b[0m\u001b[0;34m,\u001b[0m \u001b[0mout\u001b[0m\u001b[0;34m)\u001b[0m\u001b[0;34m\u001b[0m\u001b[0;34m\u001b[0m\u001b[0m\n\u001b[1;32m    169\u001b[0m \u001b[0;34m\u001b[0m\u001b[0m\n",
      "\u001b[0;32m~/.local/lib/python3.6/site-packages/jax/core.py\u001b[0m in \u001b[0;36m_call_bind\u001b[0;34m(processor, post_processor, primitive, f, *args, **params)\u001b[0m\n\u001b[1;32m   1083\u001b[0m   \u001b[0;32mif\u001b[0m \u001b[0mtop_trace\u001b[0m \u001b[0;32mis\u001b[0m \u001b[0;32mNone\u001b[0m\u001b[0;34m:\u001b[0m\u001b[0;34m\u001b[0m\u001b[0;34m\u001b[0m\u001b[0m\n\u001b[1;32m   1084\u001b[0m     \u001b[0;32mwith\u001b[0m \u001b[0mnew_sublevel\u001b[0m\u001b[0;34m(\u001b[0m\u001b[0;34m)\u001b[0m\u001b[0;34m:\u001b[0m\u001b[0;34m\u001b[0m\u001b[0;34m\u001b[0m\u001b[0m\n\u001b[0;32m-> 1085\u001b[0;31m       \u001b[0mouts\u001b[0m \u001b[0;34m=\u001b[0m \u001b[0mprimitive\u001b[0m\u001b[0;34m.\u001b[0m\u001b[0mimpl\u001b[0m\u001b[0;34m(\u001b[0m\u001b[0mf\u001b[0m\u001b[0;34m,\u001b[0m \u001b[0;34m*\u001b[0m\u001b[0margs\u001b[0m\u001b[0;34m,\u001b[0m \u001b[0;34m**\u001b[0m\u001b[0mparams\u001b[0m\u001b[0;34m)\u001b[0m\u001b[0;34m\u001b[0m\u001b[0;34m\u001b[0m\u001b[0m\n\u001b[0m\u001b[1;32m   1086\u001b[0m   \u001b[0;32melse\u001b[0m\u001b[0;34m:\u001b[0m\u001b[0;34m\u001b[0m\u001b[0;34m\u001b[0m\u001b[0m\n\u001b[1;32m   1087\u001b[0m     \u001b[0mtracers\u001b[0m \u001b[0;34m=\u001b[0m \u001b[0mmap\u001b[0m\u001b[0;34m(\u001b[0m\u001b[0mtop_trace\u001b[0m\u001b[0;34m.\u001b[0m\u001b[0mfull_raise\u001b[0m\u001b[0;34m,\u001b[0m \u001b[0margs\u001b[0m\u001b[0;34m)\u001b[0m\u001b[0;34m\u001b[0m\u001b[0;34m\u001b[0m\u001b[0m\n",
      "\u001b[0;32m~/.local/lib/python3.6/site-packages/jax/interpreters/xla.py\u001b[0m in \u001b[0;36m_xla_call_impl\u001b[0;34m(fun, device, backend, name, donated_invars, *args)\u001b[0m\n\u001b[1;32m    534\u001b[0m   \u001b[0mcompiled_fun\u001b[0m \u001b[0;34m=\u001b[0m \u001b[0m_xla_callable\u001b[0m\u001b[0;34m(\u001b[0m\u001b[0mfun\u001b[0m\u001b[0;34m,\u001b[0m \u001b[0mdevice\u001b[0m\u001b[0;34m,\u001b[0m \u001b[0mbackend\u001b[0m\u001b[0;34m,\u001b[0m \u001b[0mname\u001b[0m\u001b[0;34m,\u001b[0m \u001b[0mdonated_invars\u001b[0m\u001b[0;34m,\u001b[0m \u001b[0;34m*\u001b[0m\u001b[0mmap\u001b[0m\u001b[0;34m(\u001b[0m\u001b[0marg_spec\u001b[0m\u001b[0;34m,\u001b[0m \u001b[0margs\u001b[0m\u001b[0;34m)\u001b[0m\u001b[0;34m)\u001b[0m\u001b[0;34m\u001b[0m\u001b[0;34m\u001b[0m\u001b[0m\n\u001b[1;32m    535\u001b[0m   \u001b[0;32mtry\u001b[0m\u001b[0;34m:\u001b[0m\u001b[0;34m\u001b[0m\u001b[0;34m\u001b[0m\u001b[0m\n\u001b[0;32m--> 536\u001b[0;31m     \u001b[0;32mreturn\u001b[0m \u001b[0mcompiled_fun\u001b[0m\u001b[0;34m(\u001b[0m\u001b[0;34m*\u001b[0m\u001b[0margs\u001b[0m\u001b[0;34m)\u001b[0m\u001b[0;34m\u001b[0m\u001b[0;34m\u001b[0m\u001b[0m\n\u001b[0m\u001b[1;32m    537\u001b[0m   \u001b[0;32mexcept\u001b[0m \u001b[0mFloatingPointError\u001b[0m\u001b[0;34m:\u001b[0m\u001b[0;34m\u001b[0m\u001b[0;34m\u001b[0m\u001b[0m\n\u001b[1;32m    538\u001b[0m     print(\"Invalid value encountered in the output of a jit function. \"\n",
      "\u001b[0;32m~/.local/lib/python3.6/site-packages/jax/interpreters/xla.py\u001b[0m in \u001b[0;36m_execute_compiled\u001b[0;34m(compiled, uses_outfeed, handlers, *args)\u001b[0m\n\u001b[1;32m    751\u001b[0m   \u001b[0mdevice\u001b[0m\u001b[0;34m,\u001b[0m \u001b[0;34m=\u001b[0m \u001b[0mcompiled\u001b[0m\u001b[0;34m.\u001b[0m\u001b[0mlocal_devices\u001b[0m\u001b[0;34m(\u001b[0m\u001b[0;34m)\u001b[0m\u001b[0;34m\u001b[0m\u001b[0;34m\u001b[0m\u001b[0m\n\u001b[1;32m    752\u001b[0m   \u001b[0minput_bufs\u001b[0m \u001b[0;34m=\u001b[0m \u001b[0;34m[\u001b[0m\u001b[0mdevice_put\u001b[0m\u001b[0;34m(\u001b[0m\u001b[0mx\u001b[0m\u001b[0;34m,\u001b[0m \u001b[0mdevice\u001b[0m\u001b[0;34m)\u001b[0m \u001b[0;32mfor\u001b[0m \u001b[0mx\u001b[0m \u001b[0;32min\u001b[0m \u001b[0margs\u001b[0m \u001b[0;32mif\u001b[0m \u001b[0mx\u001b[0m \u001b[0;32mis\u001b[0m \u001b[0;32mnot\u001b[0m \u001b[0mtoken\u001b[0m\u001b[0;34m]\u001b[0m\u001b[0;34m\u001b[0m\u001b[0;34m\u001b[0m\u001b[0m\n\u001b[0;32m--> 753\u001b[0;31m   \u001b[0mout_bufs\u001b[0m \u001b[0;34m=\u001b[0m \u001b[0mcompiled\u001b[0m\u001b[0;34m.\u001b[0m\u001b[0mexecute\u001b[0m\u001b[0;34m(\u001b[0m\u001b[0minput_bufs\u001b[0m\u001b[0;34m)\u001b[0m\u001b[0;34m\u001b[0m\u001b[0;34m\u001b[0m\u001b[0m\n\u001b[0m\u001b[1;32m    754\u001b[0m   \u001b[0;32mif\u001b[0m \u001b[0mFLAGS\u001b[0m\u001b[0;34m.\u001b[0m\u001b[0mjax_debug_nans\u001b[0m\u001b[0;34m:\u001b[0m \u001b[0mcheck_nans\u001b[0m\u001b[0;34m(\u001b[0m\u001b[0mxla_call_p\u001b[0m\u001b[0;34m,\u001b[0m \u001b[0mout_bufs\u001b[0m\u001b[0;34m)\u001b[0m\u001b[0;34m\u001b[0m\u001b[0;34m\u001b[0m\u001b[0m\n\u001b[1;32m    755\u001b[0m   \u001b[0;32mreturn\u001b[0m \u001b[0;34m[\u001b[0m\u001b[0mhandler\u001b[0m\u001b[0;34m(\u001b[0m\u001b[0mout_buf\u001b[0m\u001b[0;34m)\u001b[0m \u001b[0;32mfor\u001b[0m \u001b[0mhandler\u001b[0m\u001b[0;34m,\u001b[0m \u001b[0mout_buf\u001b[0m \u001b[0;32min\u001b[0m \u001b[0mzip\u001b[0m\u001b[0;34m(\u001b[0m\u001b[0mhandlers\u001b[0m\u001b[0;34m,\u001b[0m \u001b[0mout_bufs\u001b[0m\u001b[0;34m)\u001b[0m\u001b[0;34m]\u001b[0m\u001b[0;34m\u001b[0m\u001b[0;34m\u001b[0m\u001b[0m\n",
      "\u001b[0;31mKeyboardInterrupt\u001b[0m: "
     ]
    }
   ],
   "source": [
    "frame_idx = 0\n",
    "max_frames = 100000\n",
    "batch_size = 128\n",
    "key = jnp_random.PRNGKey(0)\n",
    "opt_state = opt_init(params)\n",
    "u = np.zeros((20,action_dim))\n",
    "replay_buffer = ReplayBuffer(100000)\n",
    "i = 0\n",
    "\n",
    "while frame_idx < max_frames:\n",
    "    reward = 0.\n",
    "    ep_reward = 0.\n",
    "    state = env.reset()\n",
    "    u = np.zeros_like(u)\n",
    "    for t in range(300):\n",
    "        \n",
    "        u, key = mppi(u, aug_state(reward,state), get_params(opt_state), key)\n",
    "        action = onp.clip(u[0].copy(), -1, 1)\n",
    "        next_state, next_reward, done, _ = env.step(action)\n",
    "        \n",
    "        replay_buffer.push(state, action, reward, next_state, next_reward)\n",
    "        state = next_state\n",
    "        reward = next_reward\n",
    "        ep_reward += reward\n",
    "        u = index_update(u, index[:-1,:], u[1:,:])\n",
    "        u = index_update(u, index[-1,:], 0.)\n",
    "        if len(replay_buffer)>batch_size:\n",
    "            clear_output(wait=True)\n",
    "            opt_state = batch_update(i, opt_state, replay_buffer, batch_size, False)\n",
    "            i +=1 \n",
    "        if done:\n",
    "            break\n",
    "        \n",
    "    print(ep_reward)\n",
    "        \n"
   ]
  },
  {
   "cell_type": "code",
   "execution_count": 13,
   "metadata": {},
   "outputs": [
    {
     "data": {
      "text/plain": [
       "DeviceArray([[ 3.7905801e-02,  9.2090685e-03,  1.8728929e-02],\n",
       "             [ 3.7591286e-02,  8.7462729e-03,  1.4024430e-02],\n",
       "             [ 3.0980578e-02,  5.5928556e-03,  8.2805436e-03],\n",
       "             [ 2.7284751e-02,  3.7955828e-03,  5.1098219e-03],\n",
       "             [ 2.3495577e-02,  1.2316168e-03,  6.9543985e-03],\n",
       "             [ 2.0937685e-02,  1.6737508e-04,  1.7669548e-03],\n",
       "             [ 1.9587738e-02,  1.2163789e-04, -2.9218011e-03],\n",
       "             [ 1.7357092e-02,  2.9553066e-05, -3.7339705e-03],\n",
       "             [ 1.6358618e-02,  2.9275171e-04, -2.3641556e-03],\n",
       "             [ 1.3893484e-02,  4.8241421e-04, -1.8130792e-03],\n",
       "             [ 1.1825153e-02,  7.1047043e-04, -1.5654473e-03],\n",
       "             [ 1.0065615e-02,  6.1341288e-04, -2.0694488e-03],\n",
       "             [ 7.8180451e-03,  4.1873782e-04, -2.4115341e-03],\n",
       "             [ 6.2643229e-03,  1.1565544e-04, -2.3565756e-03],\n",
       "             [ 4.9185231e-03,  1.4997541e-04, -2.0029189e-03],\n",
       "             [ 3.5861032e-03,  9.3903531e-05, -1.6567269e-03],\n",
       "             [ 2.4239491e-03,  3.1506916e-05, -1.0791250e-03],\n",
       "             [ 1.5080707e-03,  4.4737735e-05, -5.8786687e-04],\n",
       "             [ 9.6425717e-04,  3.5127239e-05, -2.3771088e-04],\n",
       "             [ 3.6982109e-04,  1.2049750e-05, -8.5283464e-05]],            dtype=float32)"
      ]
     },
     "execution_count": 13,
     "metadata": {},
     "output_type": "execute_result"
    }
   ],
   "source": [
    "u"
   ]
  },
  {
   "cell_type": "code",
   "execution_count": null,
   "metadata": {},
   "outputs": [],
   "source": []
  }
 ],
 "metadata": {
  "kernelspec": {
   "display_name": "Python 3",
   "language": "python",
   "name": "python3"
  },
  "language_info": {
   "codemirror_mode": {
    "name": "ipython",
    "version": 3
   },
   "file_extension": ".py",
   "mimetype": "text/x-python",
   "name": "python",
   "nbconvert_exporter": "python",
   "pygments_lexer": "ipython3",
   "version": "3.6.9"
  }
 },
 "nbformat": 4,
 "nbformat_minor": 4
}
